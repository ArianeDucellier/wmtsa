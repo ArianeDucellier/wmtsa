{
 "cells": [
  {
   "cell_type": "markdown",
   "metadata": {},
   "source": [
    "# Chapter 6: The Discrete Wavelet Packet Transform"
   ]
  },
  {
   "cell_type": "code",
   "execution_count": 1,
   "metadata": {},
   "outputs": [],
   "source": [
    "import numpy as np"
   ]
  },
  {
   "cell_type": "code",
   "execution_count": 2,
   "metadata": {},
   "outputs": [],
   "source": [
    "import sys\n",
    "sys.path.append(\"../src\")\n",
    "import DWPT\n",
    "from bestbasis import bestbasis, decomposition"
   ]
  },
  {
   "cell_type": "markdown",
   "metadata": {},
   "source": [
    "## 6.3 The Best Basis Algorithm"
   ]
  },
  {
   "cell_type": "code",
   "execution_count": 3,
   "metadata": {},
   "outputs": [],
   "source": [
    "def test1():\n",
    "    \"\"\"\n",
    "    Reproduce example of Figures 224, 225, and 226 from WMTSA\n",
    "\n",
    "    Input:\n",
    "        None\n",
    "    Output:\n",
    "        None\n",
    "    \"\"\"\n",
    "    X = np.array((2.0, 0.0, -1.0, 1.0, 0.0, 0.0, -2.0, 2.0))\n",
    "    print('Time series:\\n')\n",
    "    print(X)\n",
    "    W = DWPT.get_DWPT(X, 'Haar', 3)\n",
    "    print('\\nWavelet coefficients:\\n')\n",
    "    print(W)\n",
    "    (base, cost) = bestbasis(W, X, 'entropy')\n",
    "    print('\\nBest basis:\\n')\n",
    "    print(base)\n",
    "    print('\\nCost functionals:\\n')\n",
    "    print(cost)\n",
    "    (w, b) = decomposition(X, 'Haar', 3, 'entropy')\n",
    "    print('\\nDecomposition:\\n')\n",
    "    for l in range(0, len(w)):\n",
    "        if (abs(w[l]) > 1.0e-10):\n",
    "            print(w[l])\n",
    "            print(b[l])"
   ]
  },
  {
   "cell_type": "markdown",
   "metadata": {},
   "source": [
    "Use best basis algorithm on a simple time series.\n",
    "\n",
    "Reproduce Figures 224 to 226 in WMTSA."
   ]
  },
  {
   "cell_type": "code",
   "execution_count": 4,
   "metadata": {},
   "outputs": [
    {
     "name": "stdout",
     "output_type": "stream",
     "text": [
      "Time series:\n",
      "\n",
      "[ 2.  0. -1.  1.  0.  0. -2.  2.]\n",
      "\n",
      "Wavelet coefficients:\n",
      "\n",
      "[array([ 2.,  0., -1.,  1.,  0.,  0., -2.,  2.]), array([ 1.41421356,  0.        ,  0.        ,  0.        , -1.41421356,\n",
      "        1.41421356,  0.        ,  2.82842712]), array([ 1.,  0., -1.,  0.,  2.,  2.,  0.,  2.]), array([ 0.70710678, -0.70710678,  0.70710678, -0.70710678,  2.82842712,\n",
      "        0.        ,  1.41421356,  1.41421356])]\n",
      "\n",
      "Best basis:\n",
      "\n",
      "[[0], [1, 0], [0, 0, 0, 1], [0, 0, 0, 0, 1, 1, 0, 0]]\n",
      "\n",
      "Cost functionals:\n",
      "\n",
      "[[0.9556998911125343], [0.27798716415075897, 0.6777127269617753], [0.18850409497251844, 0.18850409497251844, 0.3197804502488131, 0.3579322767129623], [0.11900730393482867, 0.11900730393482867, 0.11900730393482867, 0.11900730393482867, 0.3197804502488131, 0.0, 0.27798716415075897, 0.27798716415075897]]\n",
      "\n",
      "Decomposition:\n",
      "\n",
      "1.414213562373095\n",
      "[0.70710678 0.70710678 0.         0.         0.         0.\n",
      " 0.         0.        ]\n",
      "1.9999999999999996\n",
      "[ 0.   0.   0.   0.  -0.5  0.5 -0.5  0.5]\n",
      "2.8284271247461894\n",
      "[ 0.35355339 -0.35355339 -0.35355339  0.35355339  0.35355339 -0.35355339\n",
      " -0.35355339  0.35355339]\n"
     ]
    }
   ],
   "source": [
    "test1()"
   ]
  },
  {
   "cell_type": "code",
   "execution_count": 6,
   "metadata": {},
   "outputs": [],
   "source": [
    "def test2():\n",
    "    \"\"\"\n",
    "    Reproduce example of Figure 227 from WMTSA\n",
    "\n",
    "    Input:\n",
    "        None\n",
    "    Output:\n",
    "        None\n",
    "    \"\"\"\n",
    "    X = np.loadtxt('../data/magS4096.dat')\n",
    "    W = DWPT.get_DWPT(X, 'LA8', 6)\n",
    "    (base, cost) = bestbasis(W, X, 'entropy')\n",
    "    print('\\nBest basis:\\n')\n",
    "    print(base)"
   ]
  },
  {
   "cell_type": "code",
   "execution_count": 7,
   "metadata": {},
   "outputs": [
    {
     "name": "stdout",
     "output_type": "stream",
     "text": [
      "\n",
      "Best basis:\n",
      "\n",
      "[[0], [0, 1], [0, 1, 0, 0], [0, 0, 0, 0, 0, 0, 0, 0], [0, 1, 1, 0, 1, 1, 0, 0, 0, 1, 0, 0, 0, 0, 0, 0], [0, 1, 0, 0, 0, 0, 1, 1, 0, 0, 0, 0, 1, 0, 0, 0, 0, 1, 0, 0, 1, 1, 1, 0, 0, 0, 0, 1, 0, 0, 0, 0], [1, 1, 0, 0, 0, 0, 1, 1, 0, 0, 1, 1, 0, 0, 0, 0, 1, 1, 1, 1, 0, 0, 0, 0, 0, 0, 1, 1, 0, 0, 0, 0, 1, 1, 0, 0, 0, 0, 0, 0, 0, 0, 0, 0, 0, 0, 1, 1, 1, 1, 0, 0, 1, 1, 0, 0, 0, 0, 0, 0, 1, 1, 1, 1]]\n"
     ]
    }
   ],
   "source": [
    "test2()"
   ]
  },
  {
   "cell_type": "code",
   "execution_count": null,
   "metadata": {},
   "outputs": [],
   "source": []
  }
 ],
 "metadata": {
  "kernelspec": {
   "display_name": "Python 3",
   "language": "python",
   "name": "python3"
  },
  "language_info": {
   "codemirror_mode": {
    "name": "ipython",
    "version": 3
   },
   "file_extension": ".py",
   "mimetype": "text/x-python",
   "name": "python",
   "nbconvert_exporter": "python",
   "pygments_lexer": "ipython3",
   "version": "3.6.13"
  }
 },
 "nbformat": 4,
 "nbformat_minor": 4
}
