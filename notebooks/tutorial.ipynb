{
 "cells": [
  {
   "cell_type": "markdown",
   "metadata": {},
   "source": [
    "# Tutorial on wavelets"
   ]
  },
  {
   "cell_type": "code",
   "execution_count": 1,
   "metadata": {},
   "outputs": [],
   "source": [
    "%matplotlib inline\n",
    "import matplotlib.pyplot as plt\n",
    "import numpy as np"
   ]
  },
  {
   "cell_type": "code",
   "execution_count": 2,
   "metadata": {},
   "outputs": [],
   "source": [
    "import sys\n",
    "sys.path.append(\"../src\")\n",
    "import DWT"
   ]
  },
  {
   "cell_type": "code",
   "execution_count": 31,
   "metadata": {},
   "outputs": [],
   "source": [
    "g = DWT.get_scaling('Haar')\n",
    "h = DWT.get_wavelet(g)"
   ]
  },
  {
   "cell_type": "code",
   "execution_count": 32,
   "metadata": {},
   "outputs": [],
   "source": [
    "A1 = DWT.compute_AB(g, 1, 16)\n",
    "A2 = DWT.compute_AB(g, 2, 16)\n",
    "A3 = DWT.compute_AB(g, 3, 16)\n",
    "A4 = DWT.compute_AB(g, 4, 16)\n",
    "B1 = DWT.compute_AB(h, 1, 16)\n",
    "B2 = DWT.compute_AB(h, 2, 16)\n",
    "B3 = DWT.compute_AB(h, 3, 16)\n",
    "B4 = DWT.compute_AB(h, 4, 16)"
   ]
  },
  {
   "cell_type": "code",
   "execution_count": 33,
   "metadata": {},
   "outputs": [],
   "source": [
    "Wcal1 = B1\n",
    "Wcal2 = np.matmul(B2, A1)\n",
    "Wcal3 = np.matmul(np.matmul(B3, A2), A1)\n",
    "Wcal4 = np.matmul(np.matmul(np.matmul(B4, A3), A2), A1)\n",
    "Vcal4 = np.matmul(np.matmul(np.matmul(A4, A3), A2), A1)\n",
    "Wcal = np.concatenate((Wcal1, Wcal2, Wcal3, Wcal4, Vcal4), axis=0)"
   ]
  },
  {
   "cell_type": "code",
   "execution_count": 59,
   "metadata": {},
   "outputs": [
    {
     "data": {
      "image/png": "[encoded data removed]",
      "text/plain": [
       "<Figure size 432x288 with 16 Axes>"
      ]
     },
     "metadata": {},
     "output_type": "display_data"
    }
   ],
   "source": [
    "fig1 = plt.figure(facecolor='white')\n",
    "for i in range(0, 8):\n",
    "    ax1 = plt.subplot2grid((8, 2), (i, 0))\n",
    "    ax1.set_frame_on(False)\n",
    "    ax1.axes.get_xaxis().set_visible(False)\n",
    "    ax1.axes.get_yaxis().set_visible(False)\n",
    "    ax1.plot(np.arange(0, 16), Wcal[i,:])\n",
    "for i in range(0, 8):\n",
    "    ax1 = plt.subplot2grid((8, 2), (i, 1))\n",
    "    ax1.set_frame_on(False)\n",
    "    ax1.axes.get_xaxis().set_visible(False)\n",
    "    ax1.axes.get_yaxis().set_visible(False)\n",
    "    ax1.plot(np.arange(0, 16), Wcal[8 + i,:])"
   ]
  },
  {
   "cell_type": "code",
   "execution_count": 27,
   "metadata": {},
   "outputs": [],
   "source": [
    "X = np.loadtxt('../data/ts16a.dat')"
   ]
  },
  {
   "cell_type": "code",
   "execution_count": 50,
   "metadata": {},
   "outputs": [],
   "source": [
    "W = DWT.pyramid(X, 'Haar', 4)"
   ]
  },
  {
   "cell_type": "code",
   "execution_count": 51,
   "metadata": {},
   "outputs": [
    {
     "data": {
      "text/plain": [
       "array([-0.42426407,  0.07071068,  0.28284271,  0.6363961 ,  0.21213203,\n",
       "        0.14142136,  0.14142136,  0.21213203, -0.45      ,  0.15      ,\n",
       "        0.05      , -0.65      , -0.28284271,  0.70710678,  1.3       ,\n",
       "       -0.4       ])"
      ]
     },
     "execution_count": 51,
     "metadata": {},
     "output_type": "execute_result"
    }
   ],
   "source": [
    "W"
   ]
  },
  {
   "cell_type": "code",
   "execution_count": 52,
   "metadata": {},
   "outputs": [
    {
     "data": {
      "text/plain": [
       "array([-0.42426407,  0.07071068,  0.28284271,  0.6363961 ,  0.21213203,\n",
       "        0.14142136,  0.14142136,  0.21213203, -0.45      ,  0.15      ,\n",
       "        0.05      , -0.65      , -0.28284271,  0.70710678,  1.3       ,\n",
       "       -0.4       ])"
      ]
     },
     "execution_count": 52,
     "metadata": {},
     "output_type": "execute_result"
    }
   ],
   "source": [
    "np.matmul(Wcal, X)"
   ]
  },
  {
   "cell_type": "code",
   "execution_count": 53,
   "metadata": {},
   "outputs": [
    {
     "data": {
      "text/plain": [
       "array([ 0.2, -0.4, -0.6, -0.5, -0.8, -0.4, -0.9,  0. , -0.2,  0.1, -0.1,\n",
       "        0.1,  0.7,  0.9,  0. ,  0.3])"
      ]
     },
     "execution_count": 53,
     "metadata": {},
     "output_type": "execute_result"
    }
   ],
   "source": [
    "X"
   ]
  },
  {
   "cell_type": "code",
   "execution_count": 54,
   "metadata": {},
   "outputs": [
    {
     "data": {
      "text/plain": [
       "array([ 2.00000000e-01, -4.00000000e-01, -6.00000000e-01, -5.00000000e-01,\n",
       "       -8.00000000e-01, -4.00000000e-01, -9.00000000e-01,  3.33066907e-16,\n",
       "       -2.00000000e-01,  1.00000000e-01, -1.00000000e-01,  1.00000000e-01,\n",
       "        7.00000000e-01,  9.00000000e-01, -1.11022302e-16,  3.00000000e-01])"
      ]
     },
     "execution_count": 54,
     "metadata": {},
     "output_type": "execute_result"
    }
   ],
   "source": [
    "np.matmul(np.transpose(Wcal), W)"
   ]
  },
  {
   "cell_type": "code",
   "execution_count": null,
   "metadata": {},
   "outputs": [],
   "source": []
  }
 ],
 "metadata": {
  "kernelspec": {
   "display_name": "Python 3",
   "language": "python",
   "name": "python3"
  },
  "language_info": {
   "codemirror_mode": {
    "name": "ipython",
    "version": 3
   },
   "file_extension": ".py",
   "mimetype": "text/x-python",
   "name": "python",
   "nbconvert_exporter": "python",
   "pygments_lexer": "ipython3",
   "version": "3.6.7"
  }
 },
 "nbformat": 4,
 "nbformat_minor": 4
}
